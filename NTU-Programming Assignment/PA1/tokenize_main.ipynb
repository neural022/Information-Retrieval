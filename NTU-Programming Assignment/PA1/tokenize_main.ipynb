{
 "cells": [
  {
   "cell_type": "code",
   "execution_count": 20,
   "metadata": {},
   "outputs": [
    {
     "name": "stdout",
     "output_type": "stream",
     "text": [
      "And Yugoslav authorities are planning the arrest of eleven coal minersand two opposition politicians on suspicion of sabotage, that's inconnection with strike action against President Slobodan Milosevic.You are listening to BBC news for The World.1 1 231 1 23\n",
      "--------------------------------------------------------------------------------------------------------------\n",
      "yugoslav / author / plan / arrest / eleven / coal / minersand / opposit / politician / suspicion / sabotag / inconnect / strike / action / presid / slobodan / milosev / listen / bbc / new / "
     ]
    }
   ],
   "source": [
    "\n",
    "%run tokenization.ipynb\n",
    "\n",
    "if __name__ == '__main__':\n",
    "    f = open('text.txt', 'r', encoding='UTF-8')\n",
    "    text = ''\n",
    "    for line in f.readlines():\n",
    "        text += line.strip()\n",
    "    print(text)\n",
    "    print('-'*110)\n",
    "    tokenize = Tokenization()\n",
    "    tokenize.load_stopword_userdict('stopwords.txt')\n",
    "    tokens = tokenize.cut(text).split()\n",
    "    for token in tokens:\n",
    "        print(token, end=' / ')        \n",
    "    f.close()"
   ]
  },
  {
   "cell_type": "code",
   "execution_count": null,
   "metadata": {},
   "outputs": [],
   "source": []
  },
  {
   "cell_type": "code",
   "execution_count": null,
   "metadata": {},
   "outputs": [],
   "source": []
  }
 ],
 "metadata": {
  "kernelspec": {
   "display_name": "Python 3",
   "language": "python",
   "name": "python3"
  },
  "language_info": {
   "codemirror_mode": {
    "name": "ipython",
    "version": 3
   },
   "file_extension": ".py",
   "mimetype": "text/x-python",
   "name": "python",
   "nbconvert_exporter": "python",
   "pygments_lexer": "ipython3",
   "version": "3.7.6"
  }
 },
 "nbformat": 4,
 "nbformat_minor": 4
}
