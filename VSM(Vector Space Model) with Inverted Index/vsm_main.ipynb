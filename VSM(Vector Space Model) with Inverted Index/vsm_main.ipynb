{
 "cells": [
  {
   "cell_type": "code",
   "execution_count": 11,
   "metadata": {},
   "outputs": [
    {
     "name": "stdout",
     "output_type": "stream",
     "text": [
      "start time:2020-10-29 09:27:02.939176\n",
      "model constucting ...\n",
      "model constructed!\n",
      "316's polygyni is not in docs\n",
      "end time:2020-10-29 09:28:52.229851\n",
      "cost time:0:01:49.290675\n"
     ]
    }
   ],
   "source": [
    "%run vector_space_model.ipynb\n",
    "\n",
    "import datetime\n",
    "\n",
    "''' main function '''\n",
    "if __name__ == '__main__':\n",
    "    start_time = datetime.datetime.now()\n",
    "    print(\"start time:%s\" % start_time)\n",
    "\n",
    "    # Vector Space Model\n",
    "    vsm = VectorSpaceModel()\n",
    "    vsm.model('ntust-ir-2020/doc_list.txt', 'ntust-ir-2020_hw5_new/doc_list.txt')\n",
    "    vsm.output('ntust-ir-2020/query_list.txt', 'ntust-ir-2020/queries/', 'vsm_result.csv')\n",
    "\n",
    "    end_time = datetime.datetime.now()\n",
    "    print(\"end time:%s\" % end_time)\n",
    "    print(\"cost time:%s\" % (end_time-start_time))\n"
   ]
  },
  {
   "cell_type": "code",
   "execution_count": null,
   "metadata": {},
   "outputs": [],
   "source": []
  },
  {
   "cell_type": "code",
   "execution_count": null,
   "metadata": {},
   "outputs": [],
   "source": []
  },
  {
   "cell_type": "code",
   "execution_count": null,
   "metadata": {},
   "outputs": [],
   "source": []
  }
 ],
 "metadata": {
  "kernelspec": {
   "display_name": "Python 3",
   "language": "python",
   "name": "python3"
  },
  "language_info": {
   "codemirror_mode": {
    "name": "ipython",
    "version": 3
   },
   "file_extension": ".py",
   "mimetype": "text/x-python",
   "name": "python",
   "nbconvert_exporter": "python",
   "pygments_lexer": "ipython3",
   "version": "3.8.5"
  }
 },
 "nbformat": 4,
 "nbformat_minor": 4
}
