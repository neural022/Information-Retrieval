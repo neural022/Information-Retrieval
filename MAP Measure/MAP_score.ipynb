{
 "cells": [
  {
   "cell_type": "code",
   "execution_count": 225,
   "metadata": {},
   "outputs": [
    {
     "name": "stdout",
     "output_type": "stream",
     "text": [
      "0.4471\n",
      "0.4511\n",
      "0.3927\n"
     ]
    }
   ],
   "source": [
    "\n",
    "'''\n",
    "Input\n",
    "第一行代表有N個Query。\n",
    "\n",
    "第二行為第一個Query所檢索到的檔案。\n",
    "\n",
    "第三行為第一個Query所包含的相關文件。\n",
    "\n",
    "第四行為第二個Query所檢索到的檔案。\n",
    "\n",
    "第五行為第二個Query所包含的相關文件。\n",
    "\n",
    "以此類推...\n",
    "\n",
    "Output\n",
    "輸出MAP score，請四捨五入到小數點第四位。\n",
    "'''\n",
    "\n",
    "if __name__ == '__main__':\n",
    "    \n",
    "    with open('sample.txt', 'r', encoding='UTF-8') as f:        \n",
    "        while True:\n",
    "            try:\n",
    "                query_num = int(f.readline())\n",
    "                sum_avg = 0.0\n",
    "                for i in range(0, query_num):\n",
    "                    answer_set = f.readline().split()\n",
    "                    relevant_set = f.readline().split()\n",
    "                    sum_precision = 0\n",
    "                    relevant_num = 0\n",
    "                    for j in range(0, len(answer_set)):\n",
    "                        if answer_set[j] in relevant_set:\n",
    "                            relevant_num += 1\n",
    "                            sum_precision += relevant_num / (j+1)\n",
    "                    sum_avg += sum_precision / len(relevant_set)\n",
    "                print(round(sum_avg / query_num, 4))\n",
    "            except:\n",
    "                break\n"
   ]
  },
  {
   "cell_type": "code",
   "execution_count": null,
   "metadata": {},
   "outputs": [],
   "source": []
  },
  {
   "cell_type": "code",
   "execution_count": null,
   "metadata": {},
   "outputs": [],
   "source": []
  }
 ],
 "metadata": {
  "kernelspec": {
   "display_name": "Python 3",
   "language": "python",
   "name": "python3"
  },
  "language_info": {
   "codemirror_mode": {
    "name": "ipython",
    "version": 3
   },
   "file_extension": ".py",
   "mimetype": "text/x-python",
   "name": "python",
   "nbconvert_exporter": "python",
   "pygments_lexer": "ipython3",
   "version": "3.8.5"
  }
 },
 "nbformat": 4,
 "nbformat_minor": 4
}
