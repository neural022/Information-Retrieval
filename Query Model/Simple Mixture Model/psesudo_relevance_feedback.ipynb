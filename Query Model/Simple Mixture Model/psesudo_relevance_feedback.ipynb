{
 "cells": [
  {
   "cell_type": "code",
   "execution_count": 1,
   "metadata": {},
   "outputs": [],
   "source": [
    "import numpy as np\n",
    "from scipy import sparse"
   ]
  },
  {
   "cell_type": "code",
   "execution_count": 2,
   "metadata": {},
   "outputs": [],
   "source": [
    "class Corpus():\n",
    "    def __init__(self):\n",
    "        \n",
    "        self.vocab = dict()\n",
    "        self.docs = dict()\n",
    "        \n",
    "    def indexing(self, vocab_list, doc_list):        \n",
    "        # index term\n",
    "        self.vocab = { str(vocab_list[i]):i for i in range(len(vocab_list)) }\n",
    "        self.docs = { doc_list[i]:i for i in range(len(doc_list)) }\n",
    "        \n",
    "        return self.vocab, self.docs\n",
    "        \n",
    "class UnigramLanguageModel():\n",
    "    def __init__(self, vocab, docs):\n",
    "        self.vocab = vocab\n",
    "        self.docs = docs\n",
    "        \n",
    "    def sparse_matrix(self, data, row, column):\n",
    "        return sparse.coo_matrix((data, (np.array(row), np.array(column))))\n",
    "    \n",
    "    def modeling(self):\n",
    "        \n",
    "        tf = np.zeros(len(self.vocab))\n",
    "        # calculate tf(i)\n",
    "        for word in self.docs:\n",
    "            tf[self.vocab[word]] += 1\n",
    "        self.unigram_prob = tf / len(self.docs)\n",
    "            \n",
    "            \n",
    "    def get_term_doc(self):\n",
    "        return self.term_doc\n",
    "    \n",
    "    def get_unigram_prob(self):\n",
    "        return self.unigram_prob\n",
    "    "
   ]
  }
 ],
 "metadata": {
  "kernelspec": {
   "display_name": "Python 3",
   "language": "python",
   "name": "python3"
  },
  "language_info": {
   "codemirror_mode": {
    "name": "ipython",
    "version": 3
   },
   "file_extension": ".py",
   "mimetype": "text/x-python",
   "name": "python",
   "nbconvert_exporter": "python",
   "pygments_lexer": "ipython3",
   "version": "3.8.5"
  }
 },
 "nbformat": 4,
 "nbformat_minor": 4
}
