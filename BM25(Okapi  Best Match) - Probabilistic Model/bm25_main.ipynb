{
 "cells": [
  {
   "cell_type": "code",
   "execution_count": 57,
   "metadata": {
    "scrolled": true
   },
   "outputs": [
    {
     "name": "stdout",
     "output_type": "stream",
     "text": [
      "Building Model ...\n",
      "316's polygyni is not in docs\n",
      "Model construction completed !\n",
      "Start time: 2020-11-04 18:18\n",
      "End time: 2020-11-04 18:19\n",
      "Cost time: 0:01:03.707308\n"
     ]
    }
   ],
   "source": [
    "%run best_match_model.ipynb\n",
    "\n",
    "import datetime\n",
    "\n",
    "def cost_time(start_time, end_time):\n",
    "    cost_time = end_time - start_time\n",
    "    print('Start time: {:%Y-%m-%d %H:%M}'.format(start_time))\n",
    "    print('End time: {:%Y-%m-%d %H:%M}'.format(end_time))\n",
    "    print('Cost time: %s' % cost_time)\n",
    "    \n",
    "''' main function '''\n",
    "if __name__ == '__main__':\n",
    "    start_time = datetime.datetime.now()\n",
    "    \n",
    "    ''' Best Match Model '''\n",
    "    bm = BestMatchModel()\n",
    "    # setting dataset file path\n",
    "    bm.set_docs_path('ntust-ir-2020/doc_list.txt', 'ntust-ir-2020/docs/')\n",
    "    bm.set_queries_path('ntust-ir-2020/query_list.txt', 'ntust-ir-2020/queries/')\n",
    "    \n",
    "    # b = 0: BM15; b = 1: BM11\n",
    "    # delta = 0: BM25; delta != 0: BM25L \n",
    "    # corpus type: 'document' or 'query'\n",
    "    # b, k1, k3 delta, corpus type\n",
    "    \n",
    "    bm.model(0.85, 2.93, 1, 0)\n",
    "    bm.output('BM25_result.csv')\n",
    "    ''' End '''\n",
    "    \n",
    "    end_time = datetime.datetime.now()\n",
    "    cost_time(start_time, end_time)\n",
    "    \n"
   ]
  },
  {
   "cell_type": "code",
   "execution_count": null,
   "metadata": {},
   "outputs": [],
   "source": []
  },
  {
   "cell_type": "code",
   "execution_count": null,
   "metadata": {},
   "outputs": [],
   "source": []
  }
 ],
 "metadata": {
  "kernelspec": {
   "display_name": "Python 3",
   "language": "python",
   "name": "python3"
  },
  "language_info": {
   "codemirror_mode": {
    "name": "ipython",
    "version": 3
   },
   "file_extension": ".py",
   "mimetype": "text/x-python",
   "name": "python",
   "nbconvert_exporter": "python",
   "pygments_lexer": "ipython3",
   "version": "3.7.6"
  }
 },
 "nbformat": 4,
 "nbformat_minor": 4
}
