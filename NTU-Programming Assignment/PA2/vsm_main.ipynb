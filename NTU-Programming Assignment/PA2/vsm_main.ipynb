{
 "cells": [
  {
   "cell_type": "code",
   "execution_count": 45,
   "metadata": {},
   "outputs": [
    {
     "name": "stdout",
     "output_type": "stream",
     "text": [
      "start time:2020-10-27 00:52:10.042442\n",
      "model constucting ...\n",
      "model constructed!\n",
      "end time:2020-10-27 00:52:23.798254\n",
      "cost time:0:00:13.755812\n",
      "0\n"
     ]
    }
   ],
   "source": [
    "%run vector_space_model.ipynb\n",
    "\n",
    "import datetime\n",
    "\n",
    "''' main function '''\n",
    "if __name__ == '__main__':\n",
    "    start_time = datetime.datetime.now()\n",
    "    print(\"start time:%s\" % start_time)\n",
    "\n",
    "    # Vector Space Model\n",
    "    vsm = VectorSpaceModel()\n",
    "    vsm.model('IRTM/')\n",
    "    \n",
    "    end_time = datetime.datetime.now()\n",
    "    print(\"end time:%s\" % end_time)\n",
    "    print(\"cost time:%s\" % (end_time-start_time))\n",
    "    score = vsm.calc_cosine_similarity('1.txt', '2.txt')\n",
    "    print(score)\n"
   ]
  },
  {
   "cell_type": "code",
   "execution_count": null,
   "metadata": {},
   "outputs": [],
   "source": []
  },
  {
   "cell_type": "code",
   "execution_count": null,
   "metadata": {},
   "outputs": [],
   "source": []
  },
  {
   "cell_type": "code",
   "execution_count": null,
   "metadata": {},
   "outputs": [],
   "source": []
  }
 ],
 "metadata": {
  "kernelspec": {
   "display_name": "Python 3",
   "language": "python",
   "name": "python3"
  },
  "language_info": {
   "codemirror_mode": {
    "name": "ipython",
    "version": 3
   },
   "file_extension": ".py",
   "mimetype": "text/x-python",
   "name": "python",
   "nbconvert_exporter": "python",
   "pygments_lexer": "ipython3",
   "version": "3.7.6"
  }
 },
 "nbformat": 4,
 "nbformat_minor": 4
}
